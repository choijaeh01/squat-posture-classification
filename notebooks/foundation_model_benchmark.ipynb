{
 "cells": [
  {
   "cell_type": "markdown",
   "metadata": {},
   "source": [
    "# 스쿼트 파운데이션 모델 벤치마크 노트북\n",
    "\n",
    "이 노트북은 라벨링된 스쿼트 데이터셋으로 CNN, CNN-GRU, ViT 기반 모델을 학습·평가해 성능을 비교하기 위한 베이스라인 워크플로를 제공합니다. 아래 순서를 따라가면서 데이터를 불러오고, 증강을 적용하고, 각 모델을 학습/검증/테스트할 수 있습니다."
   ]
  },
  {
   "cell_type": "markdown",
   "metadata": {},
   "source": [
    "## 1. 환경 설정 및 공통 유틸리티"
   ]
  },
  {
   "cell_type": "code",
   "execution_count": 1,
   "id": "ad6458c3",
   "metadata": {},
   "outputs": [
    {
     "name": "stderr",
     "output_type": "stream",
     "text": [
      "/Users/Jae/Projects/squat_project/.venv/lib/python3.13/site-packages/tqdm/auto.py:21: TqdmWarning: IProgress not found. Please update jupyter and ipywidgets. See https://ipywidgets.readthedocs.io/en/stable/user_install.html\n",
      "  from .autonotebook import tqdm as notebook_tqdm\n"
     ]
    },
    {
     "data": {
      "text/plain": [
       "device(type='cpu')"
      ]
     },
     "execution_count": 1,
     "metadata": {},
     "output_type": "execute_result"
    }
   ],
   "source": [
    "import sys\n",
    "import json\n",
    "import importlib\n",
    "from dataclasses import dataclass\n",
    "from pathlib import Path\n",
    "from typing import Callable, Dict, Iterable, List, Optional, Tuple\n",
    "\n",
    "import matplotlib.pyplot as plt\n",
    "import numpy as np\n",
    "import pandas as pd\n",
    "import torch\n",
    "from torch import nn\n",
    "from torch.utils.data import DataLoader, Dataset, Subset\n",
    "from tqdm.auto import tqdm\n",
    "\n",
    "plt.style.use('seaborn-v0_8')\n",
    "\n",
    "# 프로젝트 소스 경로 자동 탐색\n",
    "NOTEBOOK_DIR = Path.cwd().resolve()\n",
    "CANDIDATES = [\n",
    "    NOTEBOOK_DIR,\n",
    "    NOTEBOOK_DIR.parent,\n",
    "    NOTEBOOK_DIR.parent.parent,\n",
    "]\n",
    "PROJECT_ROOT = None\n",
    "for candidate in CANDIDATES:\n",
    "    if (candidate / 'src').is_dir():\n",
    "        PROJECT_ROOT = candidate\n",
    "        break\n",
    "\n",
    "if PROJECT_ROOT is None:\n",
    "    raise RuntimeError('프로젝트 루트를 찾을 수 없습니다. 리포지토리 루트에서 노트북을 실행해 주세요.')\n",
    "\n",
    "if str(PROJECT_ROOT) not in sys.path:\n",
    "    sys.path.insert(0, str(PROJECT_ROOT))\n",
    "\n",
    "from src.augmentations import (\n",
    "    add_gaussian_noise,\n",
    "    compose_transforms,\n",
    "    random_time_shift,\n",
    "    random_time_stretch,\n",
    "    random_time_warp,\n",
    "    random_scaling,\n",
    ")\n",
    "import src.data_loading as data_loading\n",
    "importlib.reload(data_loading)\n",
    "from src.data_loading import (\n",
    "    DatasetLayout,\n",
    "    SquatClass,\n",
    "    SQUAT_CLASS_GUIDE,\n",
    "    SquatWindowDataset,\n",
    "    iter_class_counts,\n",
    "    make_dataloader,\n",
    "    train_val_test_split,\n",
    ")\n",
    "from src.models import TemporalCNNGRU\n",
    "\n",
    "torch.manual_seed(41)\n",
    "np.random.seed(41)\n",
    "DEVICE = torch.device('cuda' if torch.cuda.is_available() else 'cpu')\n",
    "DEVICE\n"
   ]
  },
  {
   "cell_type": "markdown",
   "id": "fb944167",
   "metadata": {},
   "source": [
    "## 2. 데이터셋 구성 및 탐색"
   ]
  },
  {
   "cell_type": "code",
   "execution_count": 2,
   "id": "ae876997",
   "metadata": {},
   "outputs": [
    {
     "data": {
      "text/plain": [
       "DatasetLayout(root=PosixPath('/Users/Jae/Projects/squat_project/data'))"
      ]
     },
     "execution_count": 2,
     "metadata": {},
     "output_type": "execute_result"
    }
   ],
   "source": [
    "# 데이터와 결과 저장 경로 설정\n",
    "DATA_ROOT = (PROJECT_ROOT / \"data\").resolve()\n",
    "RESULTS_DIR = (PROJECT_ROOT / \"results\" / \"foundation_models\").resolve()\n",
    "RESULTS_DIR.mkdir(parents=True, exist_ok=True)\n",
    "\n",
    "layout = DatasetLayout(DATA_ROOT)\n",
    "layout"
   ]
  },
  {
   "cell_type": "code",
   "execution_count": 3,
   "id": "dc54885b",
   "metadata": {},
   "outputs": [
    {
     "data": {
      "text/plain": [
       "400"
      ]
     },
     "execution_count": 3,
     "metadata": {},
     "output_type": "execute_result"
    }
   ],
   "source": [
    "# 증강 파이프라인 정의 및 원본 데이터 로드\n",
    "TARGET_LENGTH = 512\n",
    "\n",
    "train_transforms = compose_transforms(\n",
    "    [\n",
    "        random_time_shift(max_shift=5),\n",
    "        random_scaling(0.9, 1.1),\n",
    "        random_time_stretch(0.85, 1.2),\n",
    "        random_time_warp(0.15),\n",
    "        add_gaussian_noise(0.01),\n",
    "    ]\n",
    ")\n",
    "\n",
    "raw_dataset = SquatWindowDataset(\n",
    "    layout.manually_labeled,\n",
    "    transforms=None,\n",
    "    drop_columns=('timestamp',),\n",
    "    target_length=TARGET_LENGTH,\n",
    ")\n",
    "len(raw_dataset)\n"
   ]
  },
  {
   "cell_type": "code",
   "execution_count": 4,
   "id": "97b0794f",
   "metadata": {},
   "outputs": [
    {
     "name": "stdout",
     "output_type": "stream",
     "text": [
      "고유 윈도우 길이: [512]\n"
     ]
    },
    {
     "data": {
      "text/html": [
       "<div>\n",
       "<style scoped>\n",
       "    .dataframe tbody tr th:only-of-type {\n",
       "        vertical-align: middle;\n",
       "    }\n",
       "\n",
       "    .dataframe tbody tr th {\n",
       "        vertical-align: top;\n",
       "    }\n",
       "\n",
       "    .dataframe thead th {\n",
       "        text-align: right;\n",
       "    }\n",
       "</style>\n",
       "<table border=\"1\" class=\"dataframe\">\n",
       "  <thead>\n",
       "    <tr style=\"text-align: right;\">\n",
       "      <th></th>\n",
       "      <th>class</th>\n",
       "      <th>count</th>\n",
       "    </tr>\n",
       "  </thead>\n",
       "  <tbody>\n",
       "    <tr>\n",
       "      <th>0</th>\n",
       "      <td>CORRECT</td>\n",
       "      <td>80</td>\n",
       "    </tr>\n",
       "    <tr>\n",
       "      <th>1</th>\n",
       "      <td>KNEE_VALGUS</td>\n",
       "      <td>80</td>\n",
       "    </tr>\n",
       "    <tr>\n",
       "      <th>2</th>\n",
       "      <td>BUTT_WINK</td>\n",
       "      <td>80</td>\n",
       "    </tr>\n",
       "    <tr>\n",
       "      <th>3</th>\n",
       "      <td>EXCESSIVE_LEAN</td>\n",
       "      <td>80</td>\n",
       "    </tr>\n",
       "    <tr>\n",
       "      <th>4</th>\n",
       "      <td>PARTIAL_SQUAT</td>\n",
       "      <td>80</td>\n",
       "    </tr>\n",
       "  </tbody>\n",
       "</table>\n",
       "</div>"
      ],
      "text/plain": [
       "            class  count\n",
       "0         CORRECT     80\n",
       "1     KNEE_VALGUS     80\n",
       "2       BUTT_WINK     80\n",
       "3  EXCESSIVE_LEAN     80\n",
       "4   PARTIAL_SQUAT     80"
      ]
     },
     "execution_count": 4,
     "metadata": {},
     "output_type": "execute_result"
    }
   ],
   "source": [
    "# 클래스별 샘플 분포 및 길이 확인\n",
    "counts = list(iter_class_counts(raw_dataset))\n",
    "lengths = {raw_dataset[idx][0].shape[1] for idx in range(len(raw_dataset))}\n",
    "print(f\"고유 윈도우 길이: {sorted(lengths)}\")\n",
    "pd.DataFrame([(cls.name, count) for cls, count in counts], columns=['class', 'count'])\n"
   ]
  },
  {
   "cell_type": "code",
   "execution_count": 5,
   "id": "9167e834",
   "metadata": {},
   "outputs": [
    {
     "data": {
      "text/plain": [
       "torch.Size([64, 23, 512])"
      ]
     },
     "execution_count": 5,
     "metadata": {},
     "output_type": "execute_result"
    }
   ],
   "source": [
    "# 학습/검증/테스트 분할 및 데이터로더 생성\n",
    "train_subset, val_subset, test_subset = train_val_test_split(raw_dataset, ratios=(0.7, 0.15, 0.15), seed=41)\n",
    "\n",
    "class AugmentedSubset(Dataset):\n",
    "    def __init__(self, subset: Subset, transform: Optional[Callable[[torch.Tensor], torch.Tensor]] = None) -> None:\n",
    "        self.subset = subset\n",
    "        self.transform = transform\n",
    "\n",
    "    def __len__(self) -> int:\n",
    "        return len(self.subset)\n",
    "\n",
    "    def __getitem__(self, index: int):\n",
    "        window, label = self.subset[index]\n",
    "        if self.transform is not None:\n",
    "            window = self.transform(window)\n",
    "        return window, label\n",
    "\n",
    "train_dataset = AugmentedSubset(train_subset, transform=train_transforms)\n",
    "val_dataset = AugmentedSubset(val_subset)\n",
    "test_dataset = AugmentedSubset(test_subset)\n",
    "\n",
    "train_loader = make_dataloader(train_dataset, batch_size=64, shuffle=True)\n",
    "val_loader = make_dataloader(val_dataset, batch_size=64, shuffle=False)\n",
    "test_loader = make_dataloader(test_dataset, batch_size=64, shuffle=False)\n",
    "\n",
    "next(iter(train_loader))[0].shape\n"
   ]
  },
  {
   "cell_type": "markdown",
   "metadata": {},
   "source": [
    "## 3. 공통 학습 루틴 정의"
   ]
  },
  {
   "cell_type": "code",
   "execution_count": 6,
   "metadata": {},
   "outputs": [
    {
     "data": {
      "text/plain": [
       "TrainingConfig(epochs=30, learning_rate=0.0003, weight_decay=0.001, grad_clip=5.0)"
      ]
     },
     "execution_count": 6,
     "metadata": {},
     "output_type": "execute_result"
    }
   ],
   "source": [
    "@dataclass\n",
    "class TrainingConfig:\n",
    "    epochs: int = 30\n",
    "    learning_rate: float = 3e-4\n",
    "    weight_decay: float = 1e-3\n",
    "    grad_clip: float = 5.0\n",
    "\n",
    "\n",
    "def train_one_epoch(\n",
    "    model: nn.Module,\n",
    "    loader: DataLoader,\n",
    "    criterion: nn.Module,\n",
    "    optimizer: torch.optim.Optimizer,\n",
    "    config: \"TrainingConfig\",\n",
    ") -> float:\n",
    "    model.train()\n",
    "    total_loss, total_samples = 0.0, 0\n",
    "\n",
    "    for batch, targets in tqdm(loader, desc=\"train\", leave=False):\n",
    "        batch, targets = batch.to(DEVICE), targets.to(DEVICE)\n",
    "\n",
    "        optimizer.zero_grad()\n",
    "        logits = model(batch)\n",
    "        loss = criterion(logits, targets)\n",
    "        loss.backward()\n",
    "        if config.grad_clip:\n",
    "            nn.utils.clip_grad_norm_(model.parameters(), config.grad_clip)\n",
    "        optimizer.step()\n",
    "\n",
    "        total_loss += loss.item() * batch.size(0)\n",
    "        total_samples += batch.size(0)\n",
    "\n",
    "    return total_loss / max(total_samples, 1)\n",
    "\n",
    "\n",
    "@torch.no_grad()\n",
    "def evaluate(model: nn.Module, loader: DataLoader, criterion: nn.Module) -> Dict[str, float]:\n",
    "    model.eval()\n",
    "    total_loss, total_correct, total_samples = 0.0, 0, 0\n",
    "\n",
    "    for batch, targets in tqdm(loader, desc=\"eval\", leave=False):\n",
    "        batch, targets = batch.to(DEVICE), targets.to(DEVICE)\n",
    "        logits = model(batch)\n",
    "        loss = criterion(logits, targets)\n",
    "\n",
    "        total_loss += loss.item() * batch.size(0)\n",
    "        total_correct += (logits.argmax(dim=1) == targets).sum().item()\n",
    "        total_samples += batch.size(0)\n",
    "\n",
    "    return {\n",
    "        \"loss\": total_loss / max(total_samples, 1),\n",
    "        \"accuracy\": total_correct / max(total_samples, 1),\n",
    "    }\n",
    "\n",
    "\n",
    "def fit(\n",
    "    model: nn.Module,\n",
    "    train_loader: DataLoader,\n",
    "    val_loader: DataLoader,\n",
    "    config: \"TrainingConfig\",\n",
    ") -> Tuple[nn.Module, Dict[str, List[float]]]:\n",
    "    model = model.to(DEVICE)\n",
    "    optimizer = torch.optim.AdamW(model.parameters(), lr=config.learning_rate, weight_decay=config.weight_decay)\n",
    "    criterion = nn.CrossEntropyLoss()\n",
    "    history = {\"train_loss\": [], \"val_loss\": [], \"val_acc\": []}\n",
    "    best_score = 0.0\n",
    "    best_state = None\n",
    "\n",
    "    for epoch in range(1, config.epochs + 1):\n",
    "        train_loss = train_one_epoch(model, train_loader, criterion, optimizer, config)\n",
    "        metrics = evaluate(model, val_loader, criterion)\n",
    "\n",
    "        history[\"train_loss\"].append(train_loss)\n",
    "        history[\"val_loss\"].append(metrics[\"loss\"])\n",
    "        history[\"val_acc\"].append(metrics[\"accuracy\"])\n",
    "\n",
    "        if metrics[\"accuracy\"] > best_score:\n",
    "            best_score = metrics[\"accuracy\"]\n",
    "            best_state = {k: v.detach().cpu().clone() for k, v in model.state_dict().items()}\n",
    "\n",
    "        print(\n",
    "            f\"Epoch {epoch:03d} | train_loss={train_loss:.4f} | val_loss={metrics['loss']:.4f} | val_acc={metrics['accuracy']:.3%}\"\n",
    "        )\n",
    "\n",
    "    if best_state is not None:\n",
    "        model.load_state_dict(best_state)\n",
    "\n",
    "    return model, history\n",
    "\n",
    "\n",
    "config = TrainingConfig(epochs=30, learning_rate=3e-4, weight_decay=1e-3, grad_clip=5.0)\n",
    "config\n"
   ]
  },
  {
   "cell_type": "markdown",
   "metadata": {},
   "source": [
    "## 4. 모델 정의\n",
    "\n",
    "기본 CNN, CNN-GRU(TemporalCNNGRU), IMU 전용 ViT를 설정합니다."
   ]
  },
  {
   "cell_type": "code",
   "execution_count": 7,
   "metadata": {},
   "outputs": [],
   "source": [
    "class CNNBaseline(nn.Module):\n",
    "    \"\"\"간단한 1D CNN 분류기.\"\"\"\n",
    "\n",
    "    def __init__(self, in_channels: int, num_classes: int) -> None:\n",
    "        super().__init__()\n",
    "        self.net = nn.Sequential(\n",
    "            nn.Conv1d(in_channels, 64, kernel_size=7, padding=3),\n",
    "            nn.BatchNorm1d(64),\n",
    "            nn.ReLU(inplace=True),\n",
    "            nn.Conv1d(64, 128, kernel_size=5, padding=2),\n",
    "            nn.BatchNorm1d(128),\n",
    "            nn.ReLU(inplace=True),\n",
    "            nn.AdaptiveAvgPool1d(1),\n",
    "            nn.Flatten(),\n",
    "            nn.Linear(128, 128),\n",
    "            nn.ReLU(inplace=True),\n",
    "            nn.Dropout(0.2),\n",
    "            nn.Linear(128, num_classes),\n",
    "        )\n",
    "\n",
    "    def forward(self, x: torch.Tensor) -> torch.Tensor:\n",
    "        return self.net(x)\n",
    "\n",
    "\n",
    "class ViTSensor(nn.Module):\n",
    "    \"\"\"간단한 시계열 Vision Transformer.\"\"\"\n",
    "\n",
    "    def __init__(\n",
    "        self,\n",
    "        in_channels: int,\n",
    "        num_classes: int,\n",
    "        seq_len: int,\n",
    "        patch_size: int = 16,\n",
    "        dim: int = 128,\n",
    "        depth: int = 4,\n",
    "        heads: int = 4,\n",
    "        mlp_ratio: float = 2.0,\n",
    "        dropout: float = 0.1,\n",
    "    ) -> None:\n",
    "        super().__init__()\n",
    "        assert seq_len % patch_size == 0, \"Sequence length must be divisible by patch size.\"\n",
    "        self.patch_size = patch_size\n",
    "        self.num_patches = seq_len // patch_size\n",
    "        self.patch_dim = in_channels * patch_size\n",
    "\n",
    "        self.to_patch_embedding = nn.Sequential(\n",
    "            nn.Unfold(kernel_size=(1, patch_size), stride=(1, patch_size)),\n",
    "        )\n",
    "        self.linear_proj = nn.Linear(self.patch_dim, dim)\n",
    "        self.cls_token = nn.Parameter(torch.randn(1, 1, dim))\n",
    "        self.pos_embedding = nn.Parameter(torch.randn(1, self.num_patches + 1, dim))\n",
    "\n",
    "        encoder_layer = nn.TransformerEncoderLayer(\n",
    "            d_model=dim,\n",
    "            nhead=heads,\n",
    "            dim_feedforward=int(dim * mlp_ratio),\n",
    "            dropout=dropout,\n",
    "            batch_first=True,\n",
    "        )\n",
    "        self.transformer = nn.TransformerEncoder(encoder_layer, num_layers=depth)\n",
    "\n",
    "        self.mlp_head = nn.Sequential(\n",
    "            nn.LayerNorm(dim),\n",
    "            nn.Linear(dim, dim),\n",
    "            nn.GELU(),\n",
    "            nn.Dropout(dropout),\n",
    "            nn.Linear(dim, num_classes),\n",
    "        )\n",
    "\n",
    "    def forward(self, x: torch.Tensor) -> torch.Tensor:\n",
    "        b, c, t = x.shape\n",
    "        x = x.unsqueeze(2)  # (b, c, 1, t)\n",
    "        patches = self.to_patch_embedding(x)  # (b, c * patch_size, num_patches)\n",
    "        patches = patches.transpose(1, 2)  # (b, num_patches, patch_dim)\n",
    "        tokens = self.linear_proj(patches)\n",
    "\n",
    "        cls_tokens = self.cls_token.repeat(b, 1, 1)\n",
    "        tokens = torch.cat([cls_tokens, tokens], dim=1)\n",
    "        tokens = tokens + self.pos_embedding[:, : tokens.size(1), :]\n",
    "\n",
    "        encoded = self.transformer(tokens)\n",
    "        return self.mlp_head(encoded[:, 0])\n",
    "\n",
    "class CNNLSTM(nn.Module):\n",
    "    \"\"\"CNN feature extractor followed by an LSTM head.\"\"\"\n",
    "\n",
    "    def __init__(\n",
    "        self,\n",
    "        in_channels: int,\n",
    "        num_classes: int,\n",
    "        conv_channels: int = 64,\n",
    "        hidden_size: int = 128,\n",
    "        num_layers: int = 1,\n",
    "        dropout: float = 0.1,\n",
    "    ) -> None:\n",
    "        super().__init__()\n",
    "        self.encoder = nn.Sequential(\n",
    "            nn.Conv1d(in_channels, conv_channels, kernel_size=7, padding=3),\n",
    "            nn.BatchNorm1d(conv_channels),\n",
    "            nn.ReLU(inplace=True),\n",
    "            nn.Conv1d(conv_channels, conv_channels, kernel_size=5, padding=2),\n",
    "            nn.BatchNorm1d(conv_channels),\n",
    "            nn.ReLU(inplace=True),\n",
    "            nn.Dropout(dropout),\n",
    "        )\n",
    "        self.lstm = nn.LSTM(\n",
    "            input_size=conv_channels,\n",
    "            hidden_size=hidden_size,\n",
    "            num_layers=num_layers,\n",
    "            batch_first=True,\n",
    "            bidirectional=True,\n",
    "            dropout=dropout if num_layers > 1 else 0.0,\n",
    "        )\n",
    "        self.head = nn.Sequential(\n",
    "            nn.LayerNorm(hidden_size * 2),\n",
    "            nn.Linear(hidden_size * 2, hidden_size),\n",
    "            nn.ReLU(inplace=True),\n",
    "            nn.Dropout(dropout),\n",
    "            nn.Linear(hidden_size, num_classes),\n",
    "        )\n",
    "\n",
    "    def forward(self, x: torch.Tensor) -> torch.Tensor:\n",
    "        features = self.encoder(x)\n",
    "        sequence = features.transpose(1, 2)\n",
    "        output, _ = self.lstm(sequence)\n",
    "        pooled = output.mean(dim=1)\n",
    "        return self.head(pooled)\n"
   ]
  },
  {
   "cell_type": "markdown",
   "metadata": {},
   "source": [
    "## 5. 학습 및 검증\n",
    "\n",
    "모델별로 학습을 수행하고, 검증 성능을 비교합니다."
   ]
  },
  {
   "cell_type": "code",
   "execution_count": 8,
   "metadata": {},
   "outputs": [
    {
     "name": "stdout",
     "output_type": "stream",
     "text": [
      "\n",
      "=== Training: CNNBaseline ===\n"
     ]
    },
    {
     "name": "stderr",
     "output_type": "stream",
     "text": [
      "                                                    \r"
     ]
    },
    {
     "name": "stdout",
     "output_type": "stream",
     "text": [
      "Epoch 001 | train_loss=1.5168 | val_loss=1.8517 | val_acc=31.667%\n"
     ]
    },
    {
     "name": "stderr",
     "output_type": "stream",
     "text": [
      "                                                    \r"
     ]
    },
    {
     "name": "stdout",
     "output_type": "stream",
     "text": [
      "Epoch 002 | train_loss=1.4025 | val_loss=1.5991 | val_acc=38.333%\n"
     ]
    },
    {
     "name": "stderr",
     "output_type": "stream",
     "text": [
      "                                                    \r"
     ]
    },
    {
     "name": "stdout",
     "output_type": "stream",
     "text": [
      "Epoch 003 | train_loss=1.3423 | val_loss=1.4154 | val_acc=45.000%\n"
     ]
    },
    {
     "name": "stderr",
     "output_type": "stream",
     "text": [
      "                                                    \r"
     ]
    },
    {
     "name": "stdout",
     "output_type": "stream",
     "text": [
      "Epoch 004 | train_loss=1.3105 | val_loss=1.2880 | val_acc=46.667%\n"
     ]
    },
    {
     "name": "stderr",
     "output_type": "stream",
     "text": [
      "                                                    \r"
     ]
    },
    {
     "name": "stdout",
     "output_type": "stream",
     "text": [
      "Epoch 005 | train_loss=1.2900 | val_loss=1.2178 | val_acc=60.000%\n"
     ]
    },
    {
     "name": "stderr",
     "output_type": "stream",
     "text": [
      "                                                    \r"
     ]
    },
    {
     "name": "stdout",
     "output_type": "stream",
     "text": [
      "Epoch 006 | train_loss=1.2643 | val_loss=1.1773 | val_acc=60.000%\n"
     ]
    },
    {
     "name": "stderr",
     "output_type": "stream",
     "text": [
      "                                                    \r"
     ]
    },
    {
     "name": "stdout",
     "output_type": "stream",
     "text": [
      "Epoch 007 | train_loss=1.2635 | val_loss=1.1533 | val_acc=51.667%\n"
     ]
    },
    {
     "name": "stderr",
     "output_type": "stream",
     "text": [
      "                                                    \r"
     ]
    },
    {
     "name": "stdout",
     "output_type": "stream",
     "text": [
      "Epoch 008 | train_loss=1.2197 | val_loss=1.1445 | val_acc=48.333%\n"
     ]
    },
    {
     "name": "stderr",
     "output_type": "stream",
     "text": [
      "                                                    \r"
     ]
    },
    {
     "name": "stdout",
     "output_type": "stream",
     "text": [
      "Epoch 009 | train_loss=1.1935 | val_loss=1.1294 | val_acc=43.333%\n"
     ]
    },
    {
     "name": "stderr",
     "output_type": "stream",
     "text": [
      "                                                    \r"
     ]
    },
    {
     "name": "stdout",
     "output_type": "stream",
     "text": [
      "Epoch 010 | train_loss=1.1967 | val_loss=1.1304 | val_acc=43.333%\n"
     ]
    },
    {
     "name": "stderr",
     "output_type": "stream",
     "text": [
      "                                                    \r"
     ]
    },
    {
     "name": "stdout",
     "output_type": "stream",
     "text": [
      "Epoch 011 | train_loss=1.1608 | val_loss=1.1445 | val_acc=45.000%\n"
     ]
    },
    {
     "name": "stderr",
     "output_type": "stream",
     "text": [
      "                                                    \r"
     ]
    },
    {
     "name": "stdout",
     "output_type": "stream",
     "text": [
      "Epoch 012 | train_loss=1.1636 | val_loss=1.1680 | val_acc=45.000%\n"
     ]
    },
    {
     "name": "stderr",
     "output_type": "stream",
     "text": [
      "                                                    \r"
     ]
    },
    {
     "name": "stdout",
     "output_type": "stream",
     "text": [
      "Epoch 013 | train_loss=1.1587 | val_loss=1.1561 | val_acc=45.000%\n"
     ]
    },
    {
     "name": "stderr",
     "output_type": "stream",
     "text": [
      "                                                    \r"
     ]
    },
    {
     "name": "stdout",
     "output_type": "stream",
     "text": [
      "Epoch 014 | train_loss=1.1337 | val_loss=1.1307 | val_acc=46.667%\n"
     ]
    },
    {
     "name": "stderr",
     "output_type": "stream",
     "text": [
      "                                                    \r"
     ]
    },
    {
     "name": "stdout",
     "output_type": "stream",
     "text": [
      "Epoch 015 | train_loss=1.1396 | val_loss=1.1726 | val_acc=46.667%\n"
     ]
    },
    {
     "name": "stderr",
     "output_type": "stream",
     "text": [
      "                                                    \r"
     ]
    },
    {
     "name": "stdout",
     "output_type": "stream",
     "text": [
      "Epoch 016 | train_loss=1.1510 | val_loss=1.1809 | val_acc=41.667%\n"
     ]
    },
    {
     "name": "stderr",
     "output_type": "stream",
     "text": [
      "                                                    \r"
     ]
    },
    {
     "name": "stdout",
     "output_type": "stream",
     "text": [
      "Epoch 017 | train_loss=1.1055 | val_loss=1.1002 | val_acc=46.667%\n"
     ]
    },
    {
     "name": "stderr",
     "output_type": "stream",
     "text": [
      "                                                    \r"
     ]
    },
    {
     "name": "stdout",
     "output_type": "stream",
     "text": [
      "Epoch 018 | train_loss=1.1040 | val_loss=1.0506 | val_acc=50.000%\n"
     ]
    },
    {
     "name": "stderr",
     "output_type": "stream",
     "text": [
      "                                                    \r"
     ]
    },
    {
     "name": "stdout",
     "output_type": "stream",
     "text": [
      "Epoch 019 | train_loss=1.0995 | val_loss=1.0960 | val_acc=46.667%\n"
     ]
    },
    {
     "name": "stderr",
     "output_type": "stream",
     "text": [
      "                                                    \r"
     ]
    },
    {
     "name": "stdout",
     "output_type": "stream",
     "text": [
      "Epoch 020 | train_loss=1.0805 | val_loss=1.0967 | val_acc=46.667%\n"
     ]
    },
    {
     "name": "stderr",
     "output_type": "stream",
     "text": [
      "                                                    \r"
     ]
    },
    {
     "name": "stdout",
     "output_type": "stream",
     "text": [
      "Epoch 021 | train_loss=1.1232 | val_loss=1.0373 | val_acc=50.000%\n"
     ]
    },
    {
     "name": "stderr",
     "output_type": "stream",
     "text": [
      "                                                    \r"
     ]
    },
    {
     "name": "stdout",
     "output_type": "stream",
     "text": [
      "Epoch 022 | train_loss=1.0891 | val_loss=1.0617 | val_acc=50.000%\n"
     ]
    },
    {
     "name": "stderr",
     "output_type": "stream",
     "text": [
      "                                                    \r"
     ]
    },
    {
     "name": "stdout",
     "output_type": "stream",
     "text": [
      "Epoch 023 | train_loss=1.0775 | val_loss=1.0346 | val_acc=50.000%\n"
     ]
    },
    {
     "name": "stderr",
     "output_type": "stream",
     "text": [
      "                                                    \r"
     ]
    },
    {
     "name": "stdout",
     "output_type": "stream",
     "text": [
      "Epoch 024 | train_loss=1.0509 | val_loss=1.0068 | val_acc=50.000%\n"
     ]
    },
    {
     "name": "stderr",
     "output_type": "stream",
     "text": [
      "                                                    \r"
     ]
    },
    {
     "name": "stdout",
     "output_type": "stream",
     "text": [
      "Epoch 025 | train_loss=1.1125 | val_loss=1.0220 | val_acc=50.000%\n"
     ]
    },
    {
     "name": "stderr",
     "output_type": "stream",
     "text": [
      "                                                    \r"
     ]
    },
    {
     "name": "stdout",
     "output_type": "stream",
     "text": [
      "Epoch 026 | train_loss=1.0571 | val_loss=1.0230 | val_acc=51.667%\n"
     ]
    },
    {
     "name": "stderr",
     "output_type": "stream",
     "text": [
      "                                                    \r"
     ]
    },
    {
     "name": "stdout",
     "output_type": "stream",
     "text": [
      "Epoch 027 | train_loss=1.0164 | val_loss=1.0368 | val_acc=50.000%\n"
     ]
    },
    {
     "name": "stderr",
     "output_type": "stream",
     "text": [
      "                                                    \r"
     ]
    },
    {
     "name": "stdout",
     "output_type": "stream",
     "text": [
      "Epoch 028 | train_loss=1.0787 | val_loss=1.0083 | val_acc=50.000%\n"
     ]
    },
    {
     "name": "stderr",
     "output_type": "stream",
     "text": [
      "                                                    \r"
     ]
    },
    {
     "name": "stdout",
     "output_type": "stream",
     "text": [
      "Epoch 029 | train_loss=1.0987 | val_loss=1.0005 | val_acc=53.333%\n"
     ]
    },
    {
     "name": "stderr",
     "output_type": "stream",
     "text": [
      "                                                    \r"
     ]
    },
    {
     "name": "stdout",
     "output_type": "stream",
     "text": [
      "Epoch 030 | train_loss=1.0559 | val_loss=1.0714 | val_acc=51.667%\n"
     ]
    },
    {
     "name": "stderr",
     "output_type": "stream",
     "text": [
      "                                                   \r"
     ]
    },
    {
     "name": "stdout",
     "output_type": "stream",
     "text": [
      "\n",
      "=== Training: CNNLSTM ===\n"
     ]
    },
    {
     "name": "stderr",
     "output_type": "stream",
     "text": [
      "                                                    \r"
     ]
    },
    {
     "name": "stdout",
     "output_type": "stream",
     "text": [
      "Epoch 001 | train_loss=1.4896 | val_loss=1.6853 | val_acc=31.667%\n"
     ]
    },
    {
     "name": "stderr",
     "output_type": "stream",
     "text": [
      "                                                    \r"
     ]
    },
    {
     "name": "stdout",
     "output_type": "stream",
     "text": [
      "Epoch 002 | train_loss=1.2587 | val_loss=1.5728 | val_acc=35.000%\n"
     ]
    },
    {
     "name": "stderr",
     "output_type": "stream",
     "text": [
      "                                                    \r"
     ]
    },
    {
     "name": "stdout",
     "output_type": "stream",
     "text": [
      "Epoch 003 | train_loss=1.2289 | val_loss=1.2614 | val_acc=46.667%\n"
     ]
    },
    {
     "name": "stderr",
     "output_type": "stream",
     "text": [
      "                                                    \r"
     ]
    },
    {
     "name": "stdout",
     "output_type": "stream",
     "text": [
      "Epoch 004 | train_loss=1.1416 | val_loss=1.1125 | val_acc=58.333%\n"
     ]
    },
    {
     "name": "stderr",
     "output_type": "stream",
     "text": [
      "                                                    \r"
     ]
    },
    {
     "name": "stdout",
     "output_type": "stream",
     "text": [
      "Epoch 005 | train_loss=1.1208 | val_loss=1.0716 | val_acc=55.000%\n"
     ]
    },
    {
     "name": "stderr",
     "output_type": "stream",
     "text": [
      "                                                    \r"
     ]
    },
    {
     "name": "stdout",
     "output_type": "stream",
     "text": [
      "Epoch 006 | train_loss=1.0865 | val_loss=1.0504 | val_acc=53.333%\n"
     ]
    },
    {
     "name": "stderr",
     "output_type": "stream",
     "text": [
      "                                                    \r"
     ]
    },
    {
     "name": "stdout",
     "output_type": "stream",
     "text": [
      "Epoch 007 | train_loss=1.0757 | val_loss=1.0451 | val_acc=48.333%\n"
     ]
    },
    {
     "name": "stderr",
     "output_type": "stream",
     "text": [
      "                                                    \r"
     ]
    },
    {
     "name": "stdout",
     "output_type": "stream",
     "text": [
      "Epoch 008 | train_loss=1.0831 | val_loss=1.0468 | val_acc=46.667%\n"
     ]
    },
    {
     "name": "stderr",
     "output_type": "stream",
     "text": [
      "                                                    \r"
     ]
    },
    {
     "name": "stdout",
     "output_type": "stream",
     "text": [
      "Epoch 009 | train_loss=1.0725 | val_loss=1.0436 | val_acc=50.000%\n"
     ]
    },
    {
     "name": "stderr",
     "output_type": "stream",
     "text": [
      "                                                    \r"
     ]
    },
    {
     "name": "stdout",
     "output_type": "stream",
     "text": [
      "Epoch 010 | train_loss=1.0080 | val_loss=1.0752 | val_acc=50.000%\n"
     ]
    },
    {
     "name": "stderr",
     "output_type": "stream",
     "text": [
      "                                                    \r"
     ]
    },
    {
     "name": "stdout",
     "output_type": "stream",
     "text": [
      "Epoch 011 | train_loss=1.0384 | val_loss=1.0297 | val_acc=55.000%\n"
     ]
    },
    {
     "name": "stderr",
     "output_type": "stream",
     "text": [
      "                                                    \r"
     ]
    },
    {
     "name": "stdout",
     "output_type": "stream",
     "text": [
      "Epoch 012 | train_loss=0.9961 | val_loss=1.0026 | val_acc=56.667%\n"
     ]
    },
    {
     "name": "stderr",
     "output_type": "stream",
     "text": [
      "                                                    \r"
     ]
    },
    {
     "name": "stdout",
     "output_type": "stream",
     "text": [
      "Epoch 013 | train_loss=1.0509 | val_loss=0.9952 | val_acc=55.000%\n"
     ]
    },
    {
     "name": "stderr",
     "output_type": "stream",
     "text": [
      "                                                    \r"
     ]
    },
    {
     "name": "stdout",
     "output_type": "stream",
     "text": [
      "Epoch 014 | train_loss=0.9708 | val_loss=0.9924 | val_acc=50.000%\n"
     ]
    },
    {
     "name": "stderr",
     "output_type": "stream",
     "text": [
      "                                                    \r"
     ]
    },
    {
     "name": "stdout",
     "output_type": "stream",
     "text": [
      "Epoch 015 | train_loss=1.0101 | val_loss=0.9930 | val_acc=51.667%\n"
     ]
    },
    {
     "name": "stderr",
     "output_type": "stream",
     "text": [
      "                                                    \r"
     ]
    },
    {
     "name": "stdout",
     "output_type": "stream",
     "text": [
      "Epoch 016 | train_loss=1.0596 | val_loss=1.1279 | val_acc=40.000%\n"
     ]
    },
    {
     "name": "stderr",
     "output_type": "stream",
     "text": [
      "                                                    \r"
     ]
    },
    {
     "name": "stdout",
     "output_type": "stream",
     "text": [
      "Epoch 017 | train_loss=1.0752 | val_loss=1.0677 | val_acc=46.667%\n"
     ]
    },
    {
     "name": "stderr",
     "output_type": "stream",
     "text": [
      "                                                    \r"
     ]
    },
    {
     "name": "stdout",
     "output_type": "stream",
     "text": [
      "Epoch 018 | train_loss=1.0474 | val_loss=0.9506 | val_acc=55.000%\n"
     ]
    },
    {
     "name": "stderr",
     "output_type": "stream",
     "text": [
      "                                                    \r"
     ]
    },
    {
     "name": "stdout",
     "output_type": "stream",
     "text": [
      "Epoch 019 | train_loss=1.0246 | val_loss=0.9738 | val_acc=58.333%\n"
     ]
    },
    {
     "name": "stderr",
     "output_type": "stream",
     "text": [
      "                                                    \r"
     ]
    },
    {
     "name": "stdout",
     "output_type": "stream",
     "text": [
      "Epoch 020 | train_loss=1.0070 | val_loss=0.9978 | val_acc=55.000%\n"
     ]
    },
    {
     "name": "stderr",
     "output_type": "stream",
     "text": [
      "                                                    \r"
     ]
    },
    {
     "name": "stdout",
     "output_type": "stream",
     "text": [
      "Epoch 021 | train_loss=1.0459 | val_loss=1.0836 | val_acc=41.667%\n"
     ]
    },
    {
     "name": "stderr",
     "output_type": "stream",
     "text": [
      "                                                    \r"
     ]
    },
    {
     "name": "stdout",
     "output_type": "stream",
     "text": [
      "Epoch 022 | train_loss=0.9859 | val_loss=0.9966 | val_acc=48.333%\n"
     ]
    },
    {
     "name": "stderr",
     "output_type": "stream",
     "text": [
      "                                                    \r"
     ]
    },
    {
     "name": "stdout",
     "output_type": "stream",
     "text": [
      "Epoch 023 | train_loss=1.0403 | val_loss=1.0532 | val_acc=50.000%\n"
     ]
    },
    {
     "name": "stderr",
     "output_type": "stream",
     "text": [
      "                                                    \r"
     ]
    },
    {
     "name": "stdout",
     "output_type": "stream",
     "text": [
      "Epoch 024 | train_loss=1.0713 | val_loss=1.1902 | val_acc=41.667%\n"
     ]
    },
    {
     "name": "stderr",
     "output_type": "stream",
     "text": [
      "                                                    \r"
     ]
    },
    {
     "name": "stdout",
     "output_type": "stream",
     "text": [
      "Epoch 025 | train_loss=0.9972 | val_loss=0.9484 | val_acc=53.333%\n"
     ]
    },
    {
     "name": "stderr",
     "output_type": "stream",
     "text": [
      "                                                    \r"
     ]
    },
    {
     "name": "stdout",
     "output_type": "stream",
     "text": [
      "Epoch 026 | train_loss=1.0105 | val_loss=0.9515 | val_acc=58.333%\n"
     ]
    },
    {
     "name": "stderr",
     "output_type": "stream",
     "text": [
      "                                                    \r"
     ]
    },
    {
     "name": "stdout",
     "output_type": "stream",
     "text": [
      "Epoch 027 | train_loss=0.9574 | val_loss=0.9290 | val_acc=56.667%\n"
     ]
    },
    {
     "name": "stderr",
     "output_type": "stream",
     "text": [
      "                                                    \r"
     ]
    },
    {
     "name": "stdout",
     "output_type": "stream",
     "text": [
      "Epoch 028 | train_loss=1.0682 | val_loss=0.9475 | val_acc=56.667%\n"
     ]
    },
    {
     "name": "stderr",
     "output_type": "stream",
     "text": [
      "                                                    \r"
     ]
    },
    {
     "name": "stdout",
     "output_type": "stream",
     "text": [
      "Epoch 029 | train_loss=1.0116 | val_loss=0.9488 | val_acc=50.000%\n"
     ]
    },
    {
     "name": "stderr",
     "output_type": "stream",
     "text": [
      "                                                    \r"
     ]
    },
    {
     "name": "stdout",
     "output_type": "stream",
     "text": [
      "Epoch 030 | train_loss=0.9899 | val_loss=1.0837 | val_acc=36.667%\n"
     ]
    },
    {
     "name": "stderr",
     "output_type": "stream",
     "text": [
      "                                                   \r"
     ]
    },
    {
     "name": "stdout",
     "output_type": "stream",
     "text": [
      "\n",
      "=== Training: TemporalCNNGRU ===\n"
     ]
    },
    {
     "name": "stderr",
     "output_type": "stream",
     "text": [
      "                                                    \r"
     ]
    },
    {
     "name": "stdout",
     "output_type": "stream",
     "text": [
      "Epoch 001 | train_loss=1.5295 | val_loss=1.6144 | val_acc=31.667%\n"
     ]
    },
    {
     "name": "stderr",
     "output_type": "stream",
     "text": [
      "                                                    \r"
     ]
    },
    {
     "name": "stdout",
     "output_type": "stream",
     "text": [
      "Epoch 002 | train_loss=1.3030 | val_loss=1.4791 | val_acc=40.000%\n"
     ]
    },
    {
     "name": "stderr",
     "output_type": "stream",
     "text": [
      "                                                    \r"
     ]
    },
    {
     "name": "stdout",
     "output_type": "stream",
     "text": [
      "Epoch 003 | train_loss=1.2082 | val_loss=1.2490 | val_acc=51.667%\n"
     ]
    },
    {
     "name": "stderr",
     "output_type": "stream",
     "text": [
      "                                                    \r"
     ]
    },
    {
     "name": "stdout",
     "output_type": "stream",
     "text": [
      "Epoch 004 | train_loss=1.1342 | val_loss=1.0983 | val_acc=61.667%\n"
     ]
    },
    {
     "name": "stderr",
     "output_type": "stream",
     "text": [
      "                                                    \r"
     ]
    },
    {
     "name": "stdout",
     "output_type": "stream",
     "text": [
      "Epoch 005 | train_loss=1.1260 | val_loss=1.0337 | val_acc=63.333%\n"
     ]
    },
    {
     "name": "stderr",
     "output_type": "stream",
     "text": [
      "                                                    \r"
     ]
    },
    {
     "name": "stdout",
     "output_type": "stream",
     "text": [
      "Epoch 006 | train_loss=1.1174 | val_loss=1.0280 | val_acc=61.667%\n"
     ]
    },
    {
     "name": "stderr",
     "output_type": "stream",
     "text": [
      "                                                    \r"
     ]
    },
    {
     "name": "stdout",
     "output_type": "stream",
     "text": [
      "Epoch 007 | train_loss=1.0684 | val_loss=1.0707 | val_acc=55.000%\n"
     ]
    },
    {
     "name": "stderr",
     "output_type": "stream",
     "text": [
      "                                                    \r"
     ]
    },
    {
     "name": "stdout",
     "output_type": "stream",
     "text": [
      "Epoch 008 | train_loss=1.0703 | val_loss=1.1374 | val_acc=48.333%\n"
     ]
    },
    {
     "name": "stderr",
     "output_type": "stream",
     "text": [
      "                                                    \r"
     ]
    },
    {
     "name": "stdout",
     "output_type": "stream",
     "text": [
      "Epoch 009 | train_loss=1.1004 | val_loss=1.1115 | val_acc=46.667%\n"
     ]
    },
    {
     "name": "stderr",
     "output_type": "stream",
     "text": [
      "                                                    \r"
     ]
    },
    {
     "name": "stdout",
     "output_type": "stream",
     "text": [
      "Epoch 010 | train_loss=1.0174 | val_loss=1.1004 | val_acc=50.000%\n"
     ]
    },
    {
     "name": "stderr",
     "output_type": "stream",
     "text": [
      "                                                    \r"
     ]
    },
    {
     "name": "stdout",
     "output_type": "stream",
     "text": [
      "Epoch 011 | train_loss=1.0094 | val_loss=1.1359 | val_acc=53.333%\n"
     ]
    },
    {
     "name": "stderr",
     "output_type": "stream",
     "text": [
      "                                                    \r"
     ]
    },
    {
     "name": "stdout",
     "output_type": "stream",
     "text": [
      "Epoch 012 | train_loss=1.0226 | val_loss=1.0900 | val_acc=51.667%\n"
     ]
    },
    {
     "name": "stderr",
     "output_type": "stream",
     "text": [
      "                                                    \r"
     ]
    },
    {
     "name": "stdout",
     "output_type": "stream",
     "text": [
      "Epoch 013 | train_loss=1.0118 | val_loss=1.0624 | val_acc=50.000%\n"
     ]
    },
    {
     "name": "stderr",
     "output_type": "stream",
     "text": [
      "                                                    \r"
     ]
    },
    {
     "name": "stdout",
     "output_type": "stream",
     "text": [
      "Epoch 014 | train_loss=1.0373 | val_loss=1.0437 | val_acc=55.000%\n"
     ]
    },
    {
     "name": "stderr",
     "output_type": "stream",
     "text": [
      "                                                    \r"
     ]
    },
    {
     "name": "stdout",
     "output_type": "stream",
     "text": [
      "Epoch 015 | train_loss=1.0314 | val_loss=1.1326 | val_acc=43.333%\n"
     ]
    },
    {
     "name": "stderr",
     "output_type": "stream",
     "text": [
      "                                                    \r"
     ]
    },
    {
     "name": "stdout",
     "output_type": "stream",
     "text": [
      "Epoch 016 | train_loss=1.0090 | val_loss=0.9819 | val_acc=53.333%\n"
     ]
    },
    {
     "name": "stderr",
     "output_type": "stream",
     "text": [
      "                                                    \r"
     ]
    },
    {
     "name": "stdout",
     "output_type": "stream",
     "text": [
      "Epoch 017 | train_loss=1.0161 | val_loss=0.9660 | val_acc=51.667%\n"
     ]
    },
    {
     "name": "stderr",
     "output_type": "stream",
     "text": [
      "                                                    \r"
     ]
    },
    {
     "name": "stdout",
     "output_type": "stream",
     "text": [
      "Epoch 018 | train_loss=1.0266 | val_loss=0.9406 | val_acc=55.000%\n"
     ]
    },
    {
     "name": "stderr",
     "output_type": "stream",
     "text": [
      "                                                    \r"
     ]
    },
    {
     "name": "stdout",
     "output_type": "stream",
     "text": [
      "Epoch 019 | train_loss=0.9667 | val_loss=0.9216 | val_acc=56.667%\n"
     ]
    },
    {
     "name": "stderr",
     "output_type": "stream",
     "text": [
      "                                                    \r"
     ]
    },
    {
     "name": "stdout",
     "output_type": "stream",
     "text": [
      "Epoch 020 | train_loss=0.9732 | val_loss=0.9706 | val_acc=55.000%\n"
     ]
    },
    {
     "name": "stderr",
     "output_type": "stream",
     "text": [
      "                                                    \r"
     ]
    },
    {
     "name": "stdout",
     "output_type": "stream",
     "text": [
      "Epoch 021 | train_loss=0.9464 | val_loss=0.9844 | val_acc=53.333%\n"
     ]
    },
    {
     "name": "stderr",
     "output_type": "stream",
     "text": [
      "                                                    \r"
     ]
    },
    {
     "name": "stdout",
     "output_type": "stream",
     "text": [
      "Epoch 022 | train_loss=0.9858 | val_loss=1.0015 | val_acc=53.333%\n"
     ]
    },
    {
     "name": "stderr",
     "output_type": "stream",
     "text": [
      "                                                    \r"
     ]
    },
    {
     "name": "stdout",
     "output_type": "stream",
     "text": [
      "Epoch 023 | train_loss=1.0525 | val_loss=0.9671 | val_acc=55.000%\n"
     ]
    },
    {
     "name": "stderr",
     "output_type": "stream",
     "text": [
      "                                                    \r"
     ]
    },
    {
     "name": "stdout",
     "output_type": "stream",
     "text": [
      "Epoch 024 | train_loss=0.9810 | val_loss=1.1654 | val_acc=40.000%\n"
     ]
    },
    {
     "name": "stderr",
     "output_type": "stream",
     "text": [
      "                                                    \r"
     ]
    },
    {
     "name": "stdout",
     "output_type": "stream",
     "text": [
      "Epoch 025 | train_loss=1.0118 | val_loss=1.0947 | val_acc=40.000%\n"
     ]
    },
    {
     "name": "stderr",
     "output_type": "stream",
     "text": [
      "                                                    \r"
     ]
    },
    {
     "name": "stdout",
     "output_type": "stream",
     "text": [
      "Epoch 026 | train_loss=1.0352 | val_loss=1.0220 | val_acc=60.000%\n"
     ]
    },
    {
     "name": "stderr",
     "output_type": "stream",
     "text": [
      "                                                    \r"
     ]
    },
    {
     "name": "stdout",
     "output_type": "stream",
     "text": [
      "Epoch 027 | train_loss=1.0477 | val_loss=0.9886 | val_acc=55.000%\n"
     ]
    },
    {
     "name": "stderr",
     "output_type": "stream",
     "text": [
      "                                                    \r"
     ]
    },
    {
     "name": "stdout",
     "output_type": "stream",
     "text": [
      "Epoch 028 | train_loss=0.9895 | val_loss=0.9803 | val_acc=50.000%\n"
     ]
    },
    {
     "name": "stderr",
     "output_type": "stream",
     "text": [
      "                                                    \r"
     ]
    },
    {
     "name": "stdout",
     "output_type": "stream",
     "text": [
      "Epoch 029 | train_loss=1.0307 | val_loss=1.0501 | val_acc=41.667%\n"
     ]
    },
    {
     "name": "stderr",
     "output_type": "stream",
     "text": [
      "                                                    \r"
     ]
    },
    {
     "name": "stdout",
     "output_type": "stream",
     "text": [
      "Epoch 030 | train_loss=0.9800 | val_loss=1.0009 | val_acc=51.667%\n"
     ]
    },
    {
     "name": "stderr",
     "output_type": "stream",
     "text": [
      "                                                   \r"
     ]
    },
    {
     "name": "stdout",
     "output_type": "stream",
     "text": [
      "\n",
      "=== Training: ViTSensor ===\n"
     ]
    },
    {
     "name": "stderr",
     "output_type": "stream",
     "text": [
      "                                                    \r"
     ]
    },
    {
     "name": "stdout",
     "output_type": "stream",
     "text": [
      "Epoch 001 | train_loss=1.6329 | val_loss=1.6208 | val_acc=16.667%\n"
     ]
    },
    {
     "name": "stderr",
     "output_type": "stream",
     "text": [
      "                                                    \r"
     ]
    },
    {
     "name": "stdout",
     "output_type": "stream",
     "text": [
      "Epoch 002 | train_loss=1.6243 | val_loss=1.6814 | val_acc=16.667%\n"
     ]
    },
    {
     "name": "stderr",
     "output_type": "stream",
     "text": [
      "                                                    \r"
     ]
    },
    {
     "name": "stdout",
     "output_type": "stream",
     "text": [
      "Epoch 003 | train_loss=1.6162 | val_loss=1.6566 | val_acc=18.333%\n"
     ]
    },
    {
     "name": "stderr",
     "output_type": "stream",
     "text": [
      "                                                    \r"
     ]
    },
    {
     "name": "stdout",
     "output_type": "stream",
     "text": [
      "Epoch 004 | train_loss=1.6115 | val_loss=1.6359 | val_acc=18.333%\n"
     ]
    },
    {
     "name": "stderr",
     "output_type": "stream",
     "text": [
      "                                                    \r"
     ]
    },
    {
     "name": "stdout",
     "output_type": "stream",
     "text": [
      "Epoch 005 | train_loss=1.6167 | val_loss=1.6328 | val_acc=18.333%\n"
     ]
    },
    {
     "name": "stderr",
     "output_type": "stream",
     "text": [
      "                                                    \r"
     ]
    },
    {
     "name": "stdout",
     "output_type": "stream",
     "text": [
      "Epoch 006 | train_loss=1.6137 | val_loss=1.6445 | val_acc=10.000%\n"
     ]
    },
    {
     "name": "stderr",
     "output_type": "stream",
     "text": [
      "                                                    \r"
     ]
    },
    {
     "name": "stdout",
     "output_type": "stream",
     "text": [
      "Epoch 007 | train_loss=1.6137 | val_loss=1.6417 | val_acc=16.667%\n"
     ]
    },
    {
     "name": "stderr",
     "output_type": "stream",
     "text": [
      "                                                    \r"
     ]
    },
    {
     "name": "stdout",
     "output_type": "stream",
     "text": [
      "Epoch 008 | train_loss=1.5994 | val_loss=1.6382 | val_acc=16.667%\n"
     ]
    },
    {
     "name": "stderr",
     "output_type": "stream",
     "text": [
      "                                                    \r"
     ]
    },
    {
     "name": "stdout",
     "output_type": "stream",
     "text": [
      "Epoch 009 | train_loss=1.6147 | val_loss=1.6231 | val_acc=16.667%\n"
     ]
    },
    {
     "name": "stderr",
     "output_type": "stream",
     "text": [
      "                                                    \r"
     ]
    },
    {
     "name": "stdout",
     "output_type": "stream",
     "text": [
      "Epoch 010 | train_loss=1.6070 | val_loss=1.6277 | val_acc=16.667%\n"
     ]
    },
    {
     "name": "stderr",
     "output_type": "stream",
     "text": [
      "                                                    \r"
     ]
    },
    {
     "name": "stdout",
     "output_type": "stream",
     "text": [
      "Epoch 011 | train_loss=1.6084 | val_loss=1.6282 | val_acc=16.667%\n"
     ]
    },
    {
     "name": "stderr",
     "output_type": "stream",
     "text": [
      "                                                    \r"
     ]
    },
    {
     "name": "stdout",
     "output_type": "stream",
     "text": [
      "Epoch 012 | train_loss=1.6077 | val_loss=1.6287 | val_acc=16.667%\n"
     ]
    },
    {
     "name": "stderr",
     "output_type": "stream",
     "text": [
      "                                                    \r"
     ]
    },
    {
     "name": "stdout",
     "output_type": "stream",
     "text": [
      "Epoch 013 | train_loss=1.6094 | val_loss=1.6401 | val_acc=16.667%\n"
     ]
    },
    {
     "name": "stderr",
     "output_type": "stream",
     "text": [
      "                                                    \r"
     ]
    },
    {
     "name": "stdout",
     "output_type": "stream",
     "text": [
      "Epoch 014 | train_loss=1.6115 | val_loss=1.6287 | val_acc=10.000%\n"
     ]
    },
    {
     "name": "stderr",
     "output_type": "stream",
     "text": [
      "                                                    \r"
     ]
    },
    {
     "name": "stdout",
     "output_type": "stream",
     "text": [
      "Epoch 015 | train_loss=1.6121 | val_loss=1.6357 | val_acc=16.667%\n"
     ]
    },
    {
     "name": "stderr",
     "output_type": "stream",
     "text": [
      "                                                    \r"
     ]
    },
    {
     "name": "stdout",
     "output_type": "stream",
     "text": [
      "Epoch 016 | train_loss=1.6071 | val_loss=1.6406 | val_acc=16.667%\n"
     ]
    },
    {
     "name": "stderr",
     "output_type": "stream",
     "text": [
      "                                                    \r"
     ]
    },
    {
     "name": "stdout",
     "output_type": "stream",
     "text": [
      "Epoch 017 | train_loss=1.6088 | val_loss=1.6399 | val_acc=16.667%\n"
     ]
    },
    {
     "name": "stderr",
     "output_type": "stream",
     "text": [
      "                                                    \r"
     ]
    },
    {
     "name": "stdout",
     "output_type": "stream",
     "text": [
      "Epoch 018 | train_loss=1.6066 | val_loss=1.6273 | val_acc=16.667%\n"
     ]
    },
    {
     "name": "stderr",
     "output_type": "stream",
     "text": [
      "                                                    \r"
     ]
    },
    {
     "name": "stdout",
     "output_type": "stream",
     "text": [
      "Epoch 019 | train_loss=1.6060 | val_loss=1.6236 | val_acc=16.667%\n"
     ]
    },
    {
     "name": "stderr",
     "output_type": "stream",
     "text": [
      "                                                    \r"
     ]
    },
    {
     "name": "stdout",
     "output_type": "stream",
     "text": [
      "Epoch 020 | train_loss=1.6056 | val_loss=1.6236 | val_acc=16.667%\n"
     ]
    },
    {
     "name": "stderr",
     "output_type": "stream",
     "text": [
      "                                                    \r"
     ]
    },
    {
     "name": "stdout",
     "output_type": "stream",
     "text": [
      "Epoch 021 | train_loss=1.6071 | val_loss=1.6242 | val_acc=16.667%\n"
     ]
    },
    {
     "name": "stderr",
     "output_type": "stream",
     "text": [
      "                                                    \r"
     ]
    },
    {
     "name": "stdout",
     "output_type": "stream",
     "text": [
      "Epoch 022 | train_loss=1.6099 | val_loss=1.6309 | val_acc=16.667%\n"
     ]
    },
    {
     "name": "stderr",
     "output_type": "stream",
     "text": [
      "                                                    \r"
     ]
    },
    {
     "name": "stdout",
     "output_type": "stream",
     "text": [
      "Epoch 023 | train_loss=1.6139 | val_loss=1.6391 | val_acc=16.667%\n"
     ]
    },
    {
     "name": "stderr",
     "output_type": "stream",
     "text": [
      "                                                    \r"
     ]
    },
    {
     "name": "stdout",
     "output_type": "stream",
     "text": [
      "Epoch 024 | train_loss=1.6159 | val_loss=1.6391 | val_acc=18.333%\n"
     ]
    },
    {
     "name": "stderr",
     "output_type": "stream",
     "text": [
      "                                                    \r"
     ]
    },
    {
     "name": "stdout",
     "output_type": "stream",
     "text": [
      "Epoch 025 | train_loss=1.6089 | val_loss=1.6277 | val_acc=16.667%\n"
     ]
    },
    {
     "name": "stderr",
     "output_type": "stream",
     "text": [
      "                                                    \r"
     ]
    },
    {
     "name": "stdout",
     "output_type": "stream",
     "text": [
      "Epoch 026 | train_loss=1.6084 | val_loss=1.6230 | val_acc=16.667%\n"
     ]
    },
    {
     "name": "stderr",
     "output_type": "stream",
     "text": [
      "                                                    \r"
     ]
    },
    {
     "name": "stdout",
     "output_type": "stream",
     "text": [
      "Epoch 027 | train_loss=1.6109 | val_loss=1.6171 | val_acc=16.667%\n"
     ]
    },
    {
     "name": "stderr",
     "output_type": "stream",
     "text": [
      "                                                    \r"
     ]
    },
    {
     "name": "stdout",
     "output_type": "stream",
     "text": [
      "Epoch 028 | train_loss=1.6112 | val_loss=1.6099 | val_acc=16.667%\n"
     ]
    },
    {
     "name": "stderr",
     "output_type": "stream",
     "text": [
      "                                                    \r"
     ]
    },
    {
     "name": "stdout",
     "output_type": "stream",
     "text": [
      "Epoch 029 | train_loss=1.6129 | val_loss=1.6168 | val_acc=16.667%\n"
     ]
    },
    {
     "name": "stderr",
     "output_type": "stream",
     "text": [
      "                                                    \r"
     ]
    },
    {
     "name": "stdout",
     "output_type": "stream",
     "text": [
      "Epoch 030 | train_loss=1.6106 | val_loss=1.6317 | val_acc=16.667%\n"
     ]
    },
    {
     "name": "stderr",
     "output_type": "stream",
     "text": [
      "                                                   \r"
     ]
    },
    {
     "data": {
      "text/html": [
       "<div>\n",
       "<style scoped>\n",
       "    .dataframe tbody tr th:only-of-type {\n",
       "        vertical-align: middle;\n",
       "    }\n",
       "\n",
       "    .dataframe tbody tr th {\n",
       "        vertical-align: top;\n",
       "    }\n",
       "\n",
       "    .dataframe thead th {\n",
       "        text-align: right;\n",
       "    }\n",
       "</style>\n",
       "<table border=\"1\" class=\"dataframe\">\n",
       "  <thead>\n",
       "    <tr style=\"text-align: right;\">\n",
       "      <th></th>\n",
       "      <th>loss</th>\n",
       "      <th>accuracy</th>\n",
       "    </tr>\n",
       "  </thead>\n",
       "  <tbody>\n",
       "    <tr>\n",
       "      <th>CNNBaseline</th>\n",
       "      <td>1.217762</td>\n",
       "      <td>0.600000</td>\n",
       "    </tr>\n",
       "    <tr>\n",
       "      <th>CNNLSTM</th>\n",
       "      <td>1.112496</td>\n",
       "      <td>0.583333</td>\n",
       "    </tr>\n",
       "    <tr>\n",
       "      <th>TemporalCNNGRU</th>\n",
       "      <td>1.033735</td>\n",
       "      <td>0.633333</td>\n",
       "    </tr>\n",
       "    <tr>\n",
       "      <th>ViTSensor</th>\n",
       "      <td>1.656578</td>\n",
       "      <td>0.183333</td>\n",
       "    </tr>\n",
       "  </tbody>\n",
       "</table>\n",
       "</div>"
      ],
      "text/plain": [
       "                    loss  accuracy\n",
       "CNNBaseline     1.217762  0.600000\n",
       "CNNLSTM         1.112496  0.583333\n",
       "TemporalCNNGRU  1.033735  0.633333\n",
       "ViTSensor       1.656578  0.183333"
      ]
     },
     "execution_count": 8,
     "metadata": {},
     "output_type": "execute_result"
    }
   ],
   "source": [
    "def infer_input_shape(loader: DataLoader) -> Tuple[int, int]:\n",
    "    sample, _ = next(iter(loader))\n",
    "    return sample.size(1), sample.size(2)\n",
    "\n",
    "\n",
    "in_channels, seq_len = infer_input_shape(train_loader)\n",
    "num_classes = 5\n",
    "\n",
    "model_factories: Dict[str, Callable[[], nn.Module]] = {\n",
    "    \"CNNBaseline\": lambda: CNNBaseline(in_channels, num_classes),\n",
    "    \"CNNLSTM\": lambda: CNNLSTM(in_channels, num_classes),\n",
    "    \"TemporalCNNGRU\": lambda: TemporalCNNGRU(in_channels=in_channels, num_classes=num_classes),\n",
    "    \"ViTSensor\": lambda: ViTSensor(in_channels=in_channels, num_classes=num_classes, seq_len=seq_len, patch_size=16),\n",
    "}\n",
    "\n",
    "histories: Dict[str, Dict[str, List[float]]] = {}\n",
    "val_metrics: Dict[str, Dict[str, float]] = {}\n",
    "trained_models: Dict[str, nn.Module] = {}\n",
    "\n",
    "for name, factory in model_factories.items():\n",
    "    print(f\"\\n=== Training: {name} ===\")\n",
    "    model = factory()\n",
    "    model, history = fit(model, train_loader, val_loader, config)\n",
    "    metrics = evaluate(model, val_loader, nn.CrossEntropyLoss())\n",
    "\n",
    "    histories[name] = history\n",
    "    val_metrics[name] = metrics\n",
    "    trained_models[name] = model\n",
    "\n",
    "pd.DataFrame(val_metrics).T"
   ]
  },
  {
   "cell_type": "markdown",
   "metadata": {},
   "source": [
    "## 6. 테스트 세트 평가"
   ]
  },
  {
   "cell_type": "code",
   "execution_count": 9,
   "metadata": {},
   "outputs": [
    {
     "name": "stderr",
     "output_type": "stream",
     "text": [
      "                                                   \r"
     ]
    },
    {
     "name": "stdout",
     "output_type": "stream",
     "text": [
      "CNNBaseline | test_loss=1.3545 | test_acc=50.000%\n"
     ]
    },
    {
     "name": "stderr",
     "output_type": "stream",
     "text": [
      "                                                   \r"
     ]
    },
    {
     "name": "stdout",
     "output_type": "stream",
     "text": [
      "CNNLSTM | test_loss=1.2302 | test_acc=43.333%\n"
     ]
    },
    {
     "name": "stderr",
     "output_type": "stream",
     "text": [
      "                                                   \r"
     ]
    },
    {
     "name": "stdout",
     "output_type": "stream",
     "text": [
      "TemporalCNNGRU | test_loss=1.1028 | test_acc=60.000%\n"
     ]
    },
    {
     "name": "stderr",
     "output_type": "stream",
     "text": [
      "                                           "
     ]
    },
    {
     "name": "stdout",
     "output_type": "stream",
     "text": [
      "ViTSensor | test_loss=1.6233 | test_acc=20.000%\n"
     ]
    },
    {
     "name": "stderr",
     "output_type": "stream",
     "text": [
      "\r"
     ]
    },
    {
     "data": {
      "text/html": [
       "<div>\n",
       "<style scoped>\n",
       "    .dataframe tbody tr th:only-of-type {\n",
       "        vertical-align: middle;\n",
       "    }\n",
       "\n",
       "    .dataframe tbody tr th {\n",
       "        vertical-align: top;\n",
       "    }\n",
       "\n",
       "    .dataframe thead th {\n",
       "        text-align: right;\n",
       "    }\n",
       "</style>\n",
       "<table border=\"1\" class=\"dataframe\">\n",
       "  <thead>\n",
       "    <tr style=\"text-align: right;\">\n",
       "      <th></th>\n",
       "      <th>loss</th>\n",
       "      <th>accuracy</th>\n",
       "    </tr>\n",
       "  </thead>\n",
       "  <tbody>\n",
       "    <tr>\n",
       "      <th>CNNBaseline</th>\n",
       "      <td>1.354535</td>\n",
       "      <td>0.500000</td>\n",
       "    </tr>\n",
       "    <tr>\n",
       "      <th>CNNLSTM</th>\n",
       "      <td>1.230200</td>\n",
       "      <td>0.433333</td>\n",
       "    </tr>\n",
       "    <tr>\n",
       "      <th>TemporalCNNGRU</th>\n",
       "      <td>1.102813</td>\n",
       "      <td>0.600000</td>\n",
       "    </tr>\n",
       "    <tr>\n",
       "      <th>ViTSensor</th>\n",
       "      <td>1.623329</td>\n",
       "      <td>0.200000</td>\n",
       "    </tr>\n",
       "  </tbody>\n",
       "</table>\n",
       "</div>"
      ],
      "text/plain": [
       "                    loss  accuracy\n",
       "CNNBaseline     1.354535  0.500000\n",
       "CNNLSTM         1.230200  0.433333\n",
       "TemporalCNNGRU  1.102813  0.600000\n",
       "ViTSensor       1.623329  0.200000"
      ]
     },
     "execution_count": 9,
     "metadata": {},
     "output_type": "execute_result"
    }
   ],
   "source": [
    "test_results = {}\n",
    "criterion = nn.CrossEntropyLoss()\n",
    "\n",
    "for name, model in trained_models.items():\n",
    "    metrics = evaluate(model, test_loader, criterion)\n",
    "    test_results[name] = metrics\n",
    "    print(f\"{name} | test_loss={metrics['loss']:.4f} | test_acc={metrics['accuracy']:.3%}\")\n",
    "\n",
    "test_df = pd.DataFrame(test_results).T\n",
    "test_df"
   ]
  },
  {
   "cell_type": "markdown",
   "id": "624d570e",
   "metadata": {},
   "source": [
    "## 8. 학습 곡선과 성능 시각화\n",
    "훈련 기록을 시각화해 모델별 수렴 패턴과 최종 성능을 비교합니다.\n"
   ]
  },
  {
   "cell_type": "code",
   "execution_count": null,
   "id": "fa22874d",
   "metadata": {},
   "outputs": [],
   "source": [
    "# 학습 곡선 및 성능 비교\n",
    "if not histories:\n",
    "    print('histories가 비어 있어 시각화를 건너뜁니다.')\n",
    "else:\n",
    "    history_frames = []\n",
    "    for name, history in histories.items():\n",
    "        frame = pd.DataFrame({\n",
    "            'epoch': np.arange(1, len(history['train_loss']) + 1),\n",
    "            'train_loss': history['train_loss'],\n",
    "            'val_loss': history['val_loss'],\n",
    "            'val_acc': history['val_acc'],\n",
    "            'model': name,\n",
    "        })\n",
    "        history_frames.append(frame)\n",
    "    history_df = pd.concat(history_frames, ignore_index=True)\n",
    "\n",
    "    fig, axes = plt.subplots(1, 2, figsize=(14, 4))\n",
    "    for name, grp in history_df.groupby('model'):\n",
    "        axes[0].plot(grp['epoch'], grp['train_loss'], label=f'{name} train')\n",
    "        axes[0].plot(grp['epoch'], grp['val_loss'], linestyle='--', label=f'{name} val')\n",
    "        axes[1].plot(grp['epoch'], grp['val_acc'], label=name)\n",
    "    axes[0].set_title('Loss 곡선')\n",
    "    axes[0].set_xlabel('Epoch')\n",
    "    axes[0].set_ylabel('Loss')\n",
    "    axes[1].set_title('Validation Accuracy')\n",
    "    axes[1].set_xlabel('Epoch')\n",
    "    axes[1].set_ylabel('Accuracy')\n",
    "    axes[0].legend(loc='upper right', fontsize=8)\n",
    "    axes[1].legend(loc='lower right', fontsize=8)\n",
    "    plt.tight_layout()\n",
    "    plt.show()\n",
    "\n",
    "    val_df = pd.DataFrame(val_metrics).T\n",
    "    test_df = pd.DataFrame(test_results).T\n",
    "    combined = val_df[['accuracy']].rename(columns={'accuracy': 'validation'})\n",
    "    combined = combined.join(test_df[['accuracy']].rename(columns={'accuracy': 'test'}))\n",
    "    combined = combined.sort_values('validation', ascending=False)\n",
    "\n",
    "    ax = combined.plot(kind='bar', figsize=(8, 4))\n",
    "    ax.set_ylim(0, 1)\n",
    "    ax.set_ylabel('Accuracy')\n",
    "    ax.set_title('Validation/Test Accuracy 비교')\n",
    "    plt.xticks(rotation=45, ha='right')\n",
    "    plt.tight_layout()\n",
    "    plt.show()\n"
   ]
  },
  {
   "cell_type": "markdown",
   "id": "3b4bb4b6",
   "metadata": {},
   "source": [
    "## 9. 라벨 없는 SSL 윈도우 추론\n",
    "검증에서 가장 좋은 모델로 `data/manually_labeled/ssl`의 윈도우들을 분류합니다.\n"
   ]
  },
  {
   "cell_type": "code",
   "execution_count": null,
   "id": "cc83dc40",
   "metadata": {},
   "outputs": [],
   "source": [
    "# SSL 윈도우 예측 및 시각화\n",
    "unlabeled_dir = layout.manually_labeled / 'ssl'\n",
    "unlabeled_files = sorted(unlabeled_dir.glob('*.csv'))\n",
    "print(f'총 {len(unlabeled_files)}개의 SSL 윈도우를 발견했습니다.')\n",
    "\n",
    "if not unlabeled_files:\n",
    "    print('SSL 폴더가 비어 있어 예측을 건너뜁니다.')\n",
    "else:\n",
    "    best_model_name = max(val_metrics.items(), key=lambda kv: kv[1]['accuracy'])[0]\n",
    "    print(f'가장 높은 검증 정확도를 보인 모델: {best_model_name}')\n",
    "    best_model = trained_models[best_model_name].to(DEVICE).eval()\n",
    "\n",
    "    def _resample(data: np.ndarray, length: int) -> np.ndarray:\n",
    "        if data.shape[0] == length:\n",
    "            return data\n",
    "        base = np.linspace(0, data.shape[0] - 1, data.shape[0], dtype=np.float32)\n",
    "        target = np.linspace(0, data.shape[0] - 1, length, dtype=np.float32)\n",
    "        out = np.empty((length, data.shape[1]), dtype=np.float32)\n",
    "        for idx in range(data.shape[1]):\n",
    "            out[:, idx] = np.interp(target, base, data[:, idx])\n",
    "        return out\n",
    "\n",
    "    records = []\n",
    "    for csv_path in unlabeled_files:\n",
    "        df = pd.read_csv(csv_path)\n",
    "        if 'timestamp' in df.columns:\n",
    "            df = df.drop(columns=['timestamp'])\n",
    "        numeric_df = df.select_dtypes(include=[np.number])\n",
    "        if numeric_df.empty:\n",
    "            continue\n",
    "        data = numeric_df.to_numpy(dtype=np.float32)\n",
    "        if data.shape[0] != TARGET_LENGTH:\n",
    "            data = _resample(data, TARGET_LENGTH)\n",
    "        tensor = torch.from_numpy(data.T.copy()).unsqueeze(0).to(DEVICE)\n",
    "        with torch.no_grad():\n",
    "            probs = best_model(tensor).softmax(dim=1).squeeze(0).cpu().numpy()\n",
    "        pred_idx = int(np.argmax(probs))\n",
    "        pred_class = SquatClass(pred_idx)\n",
    "        records.append({\n",
    "            'file': csv_path.name,\n",
    "            'pred_class': pred_class.name,\n",
    "            'pred_prob': float(probs[pred_idx]),\n",
    "            'description': SQUAT_CLASS_GUIDE[pred_class],\n",
    "        })\n",
    "\n",
    "    if not records:\n",
    "        print('예측 가능한 SSL 윈도우가 없습니다.')\n",
    "    else:\n",
    "        ssl_df = pd.DataFrame(records).sort_values('pred_prob', ascending=False)\n",
    "        display(ssl_df.head(10))\n",
    "\n",
    "        plt.figure(figsize=(6, 4))\n",
    "        ssl_df['pred_class'].value_counts().plot(kind='bar')\n",
    "        plt.title('SSL 윈도우 예측 클래스 분포')\n",
    "        plt.ylabel('Count')\n",
    "        plt.xticks(rotation=45, ha='right')\n",
    "        plt.tight_layout()\n",
    "        plt.show()\n"
   ]
  },
  {
   "cell_type": "markdown",
   "id": "dbcf1285",
   "metadata": {},
   "source": [
    "## 10. 결과 저장\n"
   ]
  },
  {
   "cell_type": "code",
   "execution_count": 10,
   "metadata": {},
   "outputs": [
    {
     "data": {
      "text/plain": [
       "PosixPath('/Users/Jae/Projects/squat_project/results/foundation_models/foundation_model_results.json')"
      ]
     },
     "execution_count": 10,
     "metadata": {},
     "output_type": "execute_result"
    }
   ],
   "source": [
    "summary = {\n",
    "    \"val_metrics\": val_metrics,\n",
    "    \"test_metrics\": test_results,\n",
    "    \"config\": config.__dict__,\n",
    "}\n",
    "\n",
    "summary_path = RESULTS_DIR / \"foundation_model_results.json\"\n",
    "with summary_path.open(\"w\", encoding=\"utf-8\") as f:\n",
    "    json.dump(summary, f, indent=2)\n",
    "\n",
    "summary_path"
   ]
  },
  {
   "cell_type": "markdown",
   "metadata": {},
   "source": [
    "필요에 따라 `histories`를 활용해 학습 곡선을 시각화하거나, 혼동 행렬과 같은 추가 분석을 이어가세요."
   ]
  }
 ],
 "metadata": {
  "kernelspec": {
   "display_name": ".venv",
   "language": "python",
   "name": "python3"
  },
  "language_info": {
   "codemirror_mode": {
    "name": "ipython",
    "version": 3
   },
   "file_extension": ".py",
   "mimetype": "text/x-python",
   "name": "python",
   "nbconvert_exporter": "python",
   "pygments_lexer": "ipython3",
   "version": "3.13.2"
  }
 },
 "nbformat": 4,
 "nbformat_minor": 5
}
